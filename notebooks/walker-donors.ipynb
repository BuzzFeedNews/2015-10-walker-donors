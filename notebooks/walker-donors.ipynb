{
 "cells": [
  {
   "cell_type": "markdown",
   "metadata": {},
   "source": [
    "# Who Got Scott Walker's Donors?\n",
    "\n",
    "The code below looks for donors who gave to Scott Walker (before he dropped out of the 2016 presidential race) and are now giving to other candidates. A few notes and caveats:\n",
    "\n",
    "- The analysis focuses on __inidividual contributors__ to the __official committees__ of each campaign. It does not examine organizational contributors or contributions to Super PACs, leadership committees, or other candidate-support groups.\n",
    "\n",
    "\n",
    "- The Federal Election Commission does not assign unique IDs to contributors. As an approximation, this code considers two contributions to have come from __the same donor if they share all three of the following attributes__:\n",
    "    - Last name\n",
    "    - First name\n",
    "    - 5-digit ZIP code\n",
    "\n",
    "\n",
    "- Because of the lack of unique IDs, and the possibility that donors change name-spellings or ZIP codes between contributions, this method may not capture all donor movement. Additionally, if two donors with the same first and last name live in the same ZIP code, they will be mistakenly labeled as the same person.\n",
    "\n",
    "\n",
    "- A candidate is considered to have __picked up a Walker donor__ if that donor:\n",
    "    - Gave to Walker's official committee before Sept. 21.\n",
    "    - Did not give to the other candidate's committee since April 1 and before Sept. 21.\n",
    "    - *Did* give to the other candidate's committee on Sept. 21 or later."
   ]
  },
  {
   "cell_type": "code",
   "execution_count": 1,
   "metadata": {
    "collapsed": true
   },
   "outputs": [],
   "source": [
    "import pandas as pd\n",
    "import io\n",
    "import glob"
   ]
  },
  {
   "cell_type": "markdown",
   "metadata": {},
   "source": [
    "## Define committee names and IDs"
   ]
  },
  {
   "cell_type": "code",
   "execution_count": 2,
   "metadata": {
    "collapsed": true
   },
   "outputs": [],
   "source": [
    "WALKER = \"Scott Walker, Inc.\"\n",
    "BUSH = \"Jeb 2016, Inc.\"\n",
    "RUBIO = \"Marco Rubio for President\"\n",
    "CRUZ = \"Cruz for President\"\n",
    "FIORINA = \"Carly for President\""
   ]
  },
  {
   "cell_type": "code",
   "execution_count": 3,
   "metadata": {
    "collapsed": false
   },
   "outputs": [],
   "source": [
    "committees = {\n",
    "    \"C00580480\": WALKER,\n",
    "    \"C00579458\": BUSH,\n",
    "    \"C00458844\": RUBIO,\n",
    "    \"C00574624\": CRUZ,\n",
    "    \"C00577312\": FIORINA\n",
    "}"
   ]
  },
  {
   "cell_type": "markdown",
   "metadata": {},
   "source": [
    "## Load contributions from two most recent quarterly filings\n",
    "\n",
    "For the official committees supporting Walker, Bush, Rubio, Cruz, and Fiorina, we load the two most recent quarterly filings — the July and October filings. The one exception is Walker; his committee officially began in July, and so only has an October quarterly filing."
   ]
  },
  {
   "cell_type": "code",
   "execution_count": 4,
   "metadata": {
    "collapsed": false
   },
   "outputs": [],
   "source": [
    "filings = glob.glob(\"../data/fec-filings/*.fec\")"
   ]
  },
  {
   "cell_type": "code",
   "execution_count": 5,
   "metadata": {
    "collapsed": true
   },
   "outputs": [],
   "source": [
    "def profile_filing(path):\n",
    "    with open(path) as f:\n",
    "        header = f.readline()\n",
    "        f3 = pd.read_csv(io.StringIO(f.readline()), header=None).iloc[0]\n",
    "    return \"|\".join(map(str, [committees[f3[1]], f3[15], f3[16], path]))"
   ]
  },
  {
   "cell_type": "code",
   "execution_count": 6,
   "metadata": {
    "collapsed": false
   },
   "outputs": [
    {
     "name": "stdout",
     "output_type": "stream",
     "text": [
      "Carly for President|20150401|20150630|../data/fec-filings/1015551.fec\n",
      "Carly for President|20150701|20150930|../data/fec-filings/1029240.fec\n",
      "Cruz for President|20150401|20150630|../data/fec-filings/1024046.fec\n",
      "Cruz for President|20150701|20150930|../data/fec-filings/1029462.fec\n",
      "Jeb 2016, Inc.|20150401|20150630|../data/fec-filings/1024106.fec\n",
      "Jeb 2016, Inc.|20150701|20150930|../data/fec-filings/1029571.fec\n",
      "Marco Rubio for President|20150401|20150630|../data/fec-filings/1029436.fec\n",
      "Marco Rubio for President|20150701|20150930|../data/fec-filings/1029457.fec\n",
      "Scott Walker, Inc.|20150617|20150930|../data/fec-filings/1028979.fec\n"
     ]
    }
   ],
   "source": [
    "for p in sorted(map(profile_filing, filings)):\n",
    "    print(p)"
   ]
  },
  {
   "cell_type": "code",
   "execution_count": 7,
   "metadata": {
    "collapsed": true
   },
   "outputs": [],
   "source": [
    "with open(\"../data/contrib-fields.txt\") as f:\n",
    "    contrib_fields = f.read().strip().split(\"\\n\")"
   ]
  },
  {
   "cell_type": "code",
   "execution_count": 8,
   "metadata": {
    "collapsed": true
   },
   "outputs": [],
   "source": [
    "def get_indiv_contributions(path):\n",
    "    with open(path) as f:\n",
    "        sa17a = (line for line in f if line[:7] == '\"SA17A\"')\n",
    "        contributions = pd.read_csv(io.StringIO(\"\\n\".join(sa17a)),\n",
    "            header=None,\n",
    "            names=contrib_fields,\n",
    "            parse_dates=[\"contribution_date\"],\n",
    "            dtype={ \"contributor_zip\": str },\n",
    "            low_memory=False)\n",
    "    return contributions[\n",
    "        contributions[\"entity_type\"] == \"IND\"\n",
    "    ].copy()"
   ]
  },
  {
   "cell_type": "code",
   "execution_count": 9,
   "metadata": {
    "collapsed": false
   },
   "outputs": [],
   "source": [
    "contributions = pd.concat([ get_indiv_contributions(f) for f in filings ])"
   ]
  },
  {
   "cell_type": "code",
   "execution_count": 10,
   "metadata": {
    "collapsed": true
   },
   "outputs": [],
   "source": [
    "contributions[\"committee\"] = contributions[\"filer_committee_id_number\"].apply(committees.get)"
   ]
  },
  {
   "cell_type": "code",
   "execution_count": 11,
   "metadata": {
    "collapsed": false
   },
   "outputs": [],
   "source": [
    "contributions[\"zip_5\"] = contributions[\"contributor_zip\"].fillna(\"\").apply(lambda x: x[:5])"
   ]
  },
  {
   "cell_type": "code",
   "execution_count": 12,
   "metadata": {
    "collapsed": false
   },
   "outputs": [
    {
     "name": "stdout",
     "output_type": "stream",
     "text": [
      "118,760 total contributions\n"
     ]
    }
   ],
   "source": [
    "print(\"{0:,d} total contributions\".format(len(contributions)))"
   ]
  },
  {
   "cell_type": "markdown",
   "metadata": {},
   "source": [
    "### Total \\$\\$\\$ for Q2 and Q3 *itemitzed* individual contributions. \n",
    "\n",
    "This number does not reflect the total amount raised by the commmittees; it does not, for example, include donations from organizations; small, \"unitemized\" donations; or contributions from other committees."
   ]
  },
  {
   "cell_type": "code",
   "execution_count": 13,
   "metadata": {
    "collapsed": false
   },
   "outputs": [
    {
     "data": {
      "text/plain": [
       "committee\n",
       "Jeb 2016, Inc.               23226422.85\n",
       "Cruz for President           14746552.76\n",
       "Marco Rubio for President    11313202.08\n",
       "Scott Walker, Inc.            4691851.54\n",
       "Carly for President           4540582.06\n",
       "Name: contribution_amount, dtype: float64"
      ]
     },
     "execution_count": 13,
     "metadata": {},
     "output_type": "execute_result"
    }
   ],
   "source": [
    "contributions.groupby(\"committee\")[\"contribution_amount\"].sum().sort_values(ascending=False)"
   ]
  },
  {
   "cell_type": "markdown",
   "metadata": {},
   "source": [
    "## Categorize donations as pre- or post- Walker dropout\n",
    "\n",
    "Note: Contributions on the precise date of Walker's dropout are marked as *post*-dropout."
   ]
  },
  {
   "cell_type": "code",
   "execution_count": 14,
   "metadata": {
    "collapsed": true
   },
   "outputs": [],
   "source": [
    "walker_dropout_date = \"2015-09-21\""
   ]
  },
  {
   "cell_type": "code",
   "execution_count": 15,
   "metadata": {
    "collapsed": false
   },
   "outputs": [],
   "source": [
    "pre_dropout = (contributions[\"contribution_date\"] < walker_dropout_date)\n",
    "contributions[\"walker_phase\"] = pre_dropout.apply(lambda x: \"pre_dropout\" if x else \"post_dropout\")"
   ]
  },
  {
   "cell_type": "markdown",
   "metadata": {},
   "source": [
    "## Add donor \"index\" as a substitute for unique ID"
   ]
  },
  {
   "cell_type": "code",
   "execution_count": 16,
   "metadata": {
    "collapsed": true
   },
   "outputs": [],
   "source": [
    "def make_donor_index(donor):\n",
    "    is_null = lambda x: pd.isnull(x) or (len(x) == 0)\n",
    "    if is_null(donor[\"zip_5\"]) \\\n",
    "    or is_null(donor[\"contributor_first_name\"]) \\\n",
    "    or is_null(donor[\"contributor_last_name\"]):\n",
    "        return None\n",
    "    fmt = \"{contributor_last_name}|{contributor_first_name}|{zip_5}\"\n",
    "    return fmt.format(**donor).upper()"
   ]
  },
  {
   "cell_type": "code",
   "execution_count": 17,
   "metadata": {
    "collapsed": false
   },
   "outputs": [],
   "source": [
    "contributions[\"donor_index\"] = contributions.apply(make_donor_index, axis=1)"
   ]
  },
  {
   "cell_type": "code",
   "execution_count": 18,
   "metadata": {
    "collapsed": false
   },
   "outputs": [
    {
     "data": {
      "text/plain": [
       "committee                  walker_phase\n",
       "Carly for President        post_dropout    set([WILLIAMS|BRENT|84121, BILDEN|PETER|06840,...\n",
       "                           pre_dropout     set([MELLO|ED|75230, ANDREW|KEVIN|93309, KNAUP...\n",
       "Cruz for President         post_dropout    set([PORTWINE|KENNETH|63119, SIEGEL|MATTHEW|66...\n",
       "                           pre_dropout     set([PORTWINE|KENNETH|63119, BUTLER|CYNTHIA|01...\n",
       "Jeb 2016, Inc.             post_dropout    set([STRAWN|PAIGE|98119, GREGG|DIANE|32305, MC...\n",
       "                           pre_dropout     set([BIBER|KATHRYN|94122, BOYD|JEFF|06830, ARM...\n",
       "Marco Rubio for President  post_dropout    set([GLASER|PATRICIA|90067, TEGAN|JAMES|55447,...\n",
       "                           pre_dropout     set([MELLA|DIEGO|33186, MCLELLAN|JAMES|32533, ...\n",
       "Scott Walker, Inc.         post_dropout    set([AMOS|RALPH|46001, KELLY|LOIS|48334, FELTE...\n",
       "                           pre_dropout     set([PUTZ|CHRISTI|83703, GEARHART|MARILYN|9885...\n",
       "Name: donor_index, dtype: object"
      ]
     },
     "execution_count": 18,
     "metadata": {},
     "output_type": "execute_result"
    }
   ],
   "source": [
    "donor_lists = contributions.dropna(subset=[\"donor_index\"])\\\n",
    "    .groupby([ \"committee\", \"walker_phase\" ])\\\n",
    "    [\"donor_index\"].unique().apply(set)\n",
    "donor_lists"
   ]
  },
  {
   "cell_type": "code",
   "execution_count": 19,
   "metadata": {
    "collapsed": true
   },
   "outputs": [],
   "source": [
    "def get_walker_pickups(committee):\n",
    "    new_donors = donor_lists[committee][\"post_dropout\"] - donor_lists[committee][\"pre_dropout\"]\n",
    "    overlap = new_donors.intersection(donor_lists[WALKER][\"pre_dropout\"])\n",
    "    pickups = contributions[\n",
    "        contributions[\"donor_index\"].isin(overlap) &\n",
    "        (contributions[\"committee\"] == committee) &\n",
    "        (contributions[\"walker_phase\"] == \"post_dropout\")\n",
    "    ].groupby(\"donor_index\")[\"contribution_amount\"].sum()\n",
    "    return pickups.sort_values(ascending=False)"
   ]
  },
  {
   "cell_type": "code",
   "execution_count": 20,
   "metadata": {
    "collapsed": true
   },
   "outputs": [],
   "source": [
    "def summarize_walker_pickups(committee):\n",
    "    pickups = get_walker_pickups(committee)\n",
    "    print((\n",
    "        \"{0} picked up approx. {1} Walker donors, \"\n",
    "        \"who've contributed ${2:,.0f} since Sept. 21. They are:\\n\"\n",
    "    ).format(committee, len(pickups), pickups.sum()))\n",
    "    print(pickups)"
   ]
  },
  {
   "cell_type": "code",
   "execution_count": 21,
   "metadata": {
    "collapsed": false
   },
   "outputs": [
    {
     "name": "stdout",
     "output_type": "stream",
     "text": [
      "Jeb 2016, Inc. picked up approx. 17 Walker donors, who've contributed $40,750 since Sept. 21. They are:\n",
      "\n",
      "donor_index\n",
      "HUBBARD|STANLEY|55114       5400\n",
      "GRABER|RICHARD|22314        5400\n",
      "HUBBARD|KAREN|55043         4700\n",
      "WEINMANN|JOHN|70130         2700\n",
      "BROCK|DONNIE|74104          2700\n",
      "BROCK|JOHN|74104            2700\n",
      "MIZEL|LARRY|80237           2700\n",
      "RUNDE|DANIEL|22101          2700\n",
      "RUNDE|SONIA|22101           2700\n",
      "SCARAMUCCI|ANTHONY|11030    2700\n",
      "SCARAMUCCI|DEIDRE|11030     2700\n",
      "SAMSON|MICHAEL|94121        1000\n",
      "BIERMAN|BROCK|20141         1000\n",
      "ROBERTS|JACK|99361           500\n",
      "DAVIS|DONALD|94904           500\n",
      "GREAVES|WILLIAM|53217        350\n",
      "STOKES|LINDSEY|63132         300\n",
      "Name: contribution_amount, dtype: float64\n"
     ]
    }
   ],
   "source": [
    "summarize_walker_pickups(BUSH)"
   ]
  },
  {
   "cell_type": "code",
   "execution_count": 22,
   "metadata": {
    "collapsed": false
   },
   "outputs": [
    {
     "name": "stdout",
     "output_type": "stream",
     "text": [
      "Marco Rubio for President picked up approx. 33 Walker donors, who've contributed $33,216 since Sept. 21. They are:\n",
      "\n",
      "donor_index\n",
      "OBERWEIS|JIM|60554               5380\n",
      "BAILEY|MONA|76180                2700\n",
      "LOCKE|AIMEE|78212                2700\n",
      "COLLINS|DANIEL|91001             2700\n",
      "CONKEY|MARY|95746                2700\n",
      "HANNA|COLIN|19382                2700\n",
      "JORDAN|THOMAS|95448              2700\n",
      "HUBBARD|STANLEY|55114            2500\n",
      "BARNARD|TIMOTHY|59771            1000\n",
      "RICHARDSON|ROBERT|46516          1000\n",
      "MUZZI|VINCENT|94030              1000\n",
      "UIHLEIN|LUCIA|34228              1000\n",
      "HALLAS|LAURENCE|63011             500\n",
      "KORPAN|RICHARD|80439              500\n",
      "KRESS|DONALD|54307                500\n",
      "TEGAN|JAMES|55447                 500\n",
      "ROBERTSON|MARY|06069              500\n",
      "MCINVALE|GERALD|30240             250\n",
      "MORTON|RICHARD|33418              250\n",
      "TESTA|DAVID|34491                 250\n",
      "DAVIS|LARRY|75228                 250\n",
      "GIESZL|YALE|81615                 250\n",
      "SHERRED|ELLEN|32459               250\n",
      "KEITH|RALPH|04096                 250\n",
      "MOSS|CAROL|93309                  250\n",
      "JACKSON|WILLIAM|29605             150\n",
      "THORSGARD|ENOCH|58267             110\n",
      "SEWELL|MARY|92656                 100\n",
      "SERBECK|JOHN|99516                100\n",
      "GLENDINNING|MILDRED ANN|33455     100\n",
      "FOSTER|LEONARD|75081               40\n",
      "WILLIAMS|LINDA|92593               25\n",
      "JENNINGS|EDWIN|77255               11\n",
      "Name: contribution_amount, dtype: float64\n"
     ]
    }
   ],
   "source": [
    "summarize_walker_pickups(RUBIO)"
   ]
  },
  {
   "cell_type": "code",
   "execution_count": 23,
   "metadata": {
    "collapsed": false
   },
   "outputs": [
    {
     "name": "stdout",
     "output_type": "stream",
     "text": [
      "Cruz for President picked up approx. 26 Walker donors, who've contributed $25,355 since Sept. 21. They are:\n",
      "\n",
      "donor_index\n",
      "WESTCOTT|CHART|75201       5400\n",
      "WESTCOTT|CARL|75201        5400\n",
      "ISAAC|PAUL|10538           2700\n",
      "KADISHA|NEIL|90212         2000\n",
      "WHITE|WALTER|77024         1700\n",
      "NAEGELE|ELLIS|34108        1000\n",
      "SAMELMAN|IRWIN|89113       1000\n",
      "STIRRATT|AVERY|06840        500\n",
      "HOMMES|GERALD|55446         500\n",
      "RABY|LON|35802              500\n",
      "PRATT|CHARLES|60093         500\n",
      "HAAS|ALISON|07821           500\n",
      "FLOOD|MARYANN|98683         500\n",
      "KRAUSE|CHARLES|03458        500\n",
      "FOGARTY|ROSALEE|94028       350\n",
      "TOFT|KAREN|15235            300\n",
      "GROSVENOR|DANNA|80123       250\n",
      "PATTEN|DAVID|19083          250\n",
      "SCHNEEBECK|ROBERT|34223     250\n",
      "BLACK|CYNTHIA|93311         250\n",
      "SULLIVAN|ALFRED|98040       250\n",
      "DAAS|STEPHEN|55418          250\n",
      "BRYDEN|ELIZABETH|10023      205\n",
      "MASTERSON|CONRAD|75219      100\n",
      "SMITH|WILLIAM|03811         100\n",
      "BELCHER|WILLIAM|95008       100\n",
      "Name: contribution_amount, dtype: float64\n"
     ]
    }
   ],
   "source": [
    "summarize_walker_pickups(CRUZ)"
   ]
  },
  {
   "cell_type": "code",
   "execution_count": 24,
   "metadata": {
    "collapsed": false
   },
   "outputs": [
    {
     "name": "stdout",
     "output_type": "stream",
     "text": [
      "Carly for President picked up approx. 27 Walker donors, who've contributed $24,100 since Sept. 21. They are:\n",
      "\n",
      "donor_index\n",
      "BECKWITH|GEORGE|15238    2700\n",
      "BUSCH|AUGUST|63376       2700\n",
      "MASON|JIM|98520          2700\n",
      "WITMER|TODD|17552        2500\n",
      "HUBBARD|STANLEY|55114    2500\n",
      "CROSS|DEVON|10065        1000\n",
      "DOWD|JOHN|22182          1000\n",
      "ELDREDGE|KEITH|17315     1000\n",
      "MCBRIDE|JAMES|04268      1000\n",
      "PORTER|RICHARD|60093      700\n",
      "JENNINGS|VERN|89011       500\n",
      "EARHART|ALAN|94024        500\n",
      "GRUCHALA|PAUL|48185       500\n",
      "HARRIS|BOBBYE|30701       500\n",
      "HOUSTON|REAGAN|78279      500\n",
      "KEEN|CLAY|88065           500\n",
      "RATH|DIANE|78209          500\n",
      "ROBERTS|JACK|99361        500\n",
      "SAMSON|MICHAEL|94121      500\n",
      "JONES|BRYAN|55330         300\n",
      "MCMANUS|VINCENT|06492     300\n",
      "SWENSON|ROBERT|53546      250\n",
      "MCCUNE|JOHN|67226         250\n",
      "MORTON|YOLANDA|91387      250\n",
      "BARNHART|NANCY|38053      250\n",
      "SCHAUS|NICHOLAS|32963     100\n",
      "SCHOENECK|PAUL|53122      100\n",
      "Name: contribution_amount, dtype: float64\n"
     ]
    }
   ],
   "source": [
    "summarize_walker_pickups(FIORINA)"
   ]
  },
  {
   "cell_type": "markdown",
   "metadata": {},
   "source": [
    "---\n",
    "\n",
    "---\n",
    "\n",
    "---"
   ]
  }
 ],
 "metadata": {
  "kernelspec": {
   "display_name": "Python 3",
   "language": "python",
   "name": "python3"
  },
  "language_info": {
   "codemirror_mode": {
    "name": "ipython",
    "version": 3
   },
   "file_extension": ".py",
   "mimetype": "text/x-python",
   "name": "python",
   "nbconvert_exporter": "python",
   "pygments_lexer": "ipython3",
   "version": "3.4.3"
  }
 },
 "nbformat": 4,
 "nbformat_minor": 0
}
